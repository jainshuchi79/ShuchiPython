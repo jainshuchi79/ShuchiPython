{
  "cells": [
    {
      "cell_type": "markdown",
      "metadata": {
        "id": "FpjMNWLJ6iL7"
      },
      "source": [
        "![rmotr](https://user-images.githubusercontent.com/7065401/52071918-bda15380-2562-11e9-828c-7f95297e4a82.png)\n",
        "<hr style=\"margin-bottom: 40px;\">\n",
        "\n",
        "# Pandas Series exercises\n"
      ]
    },
    {
      "cell_type": "code",
      "execution_count": null,
      "metadata": {
        "id": "ImffvId66iL9",
        "outputId": "3d0e3e24-d784-45f2-a33a-9ec9de76e595"
      },
      "outputs": [
        {
          "name": "stdout",
          "output_type": "stream",
          "text": [
            "0.25.3\n"
          ]
        }
      ],
      "source": [
        "# Import the numpy package under the name np\n",
        "import numpy as np\n",
        "\n",
        "# Import the pandas package under the name pd\n",
        "import pandas as pd\n",
        "\n",
        "# Print the pandas version and the configuration\n",
        "print(pd.__version__)"
      ]
    },
    {
      "cell_type": "markdown",
      "metadata": {
        "id": "ZOJpI5HX6iL-"
      },
      "source": [
        "![purple-divider](https://user-images.githubusercontent.com/7065401/52071927-c1cd7100-2562-11e9-908a-dde91ba14e59.png)\n",
        "\n",
        "## Series creation"
      ]
    },
    {
      "cell_type": "markdown",
      "metadata": {
        "id": "Wlo0LWqd6iL_"
      },
      "source": [
        "### Create an empty pandas Series"
      ]
    },
    {
      "cell_type": "code",
      "execution_count": null,
      "metadata": {
        "id": "tbgHSnA76iL_"
      },
      "outputs": [],
      "source": [
        "# your code goes here\n"
      ]
    },
    {
      "cell_type": "code",
      "execution_count": null,
      "metadata": {
        "cell_type": "solution",
        "id": "1om4gd2V6iL_"
      },
      "outputs": [],
      "source": [
        "pd.Series()"
      ]
    },
    {
      "cell_type": "markdown",
      "metadata": {
        "id": "QebrOUtz6iL_"
      },
      "source": [
        "![green-divider](https://user-images.githubusercontent.com/7065401/52071924-c003ad80-2562-11e9-8297-1c6595f8a7ff.png)\n",
        "\n",
        "### Given the X python list convert it to an Y pandas Series"
      ]
    },
    {
      "cell_type": "code",
      "execution_count": null,
      "metadata": {
        "id": "QNQPTX4N6iMA"
      },
      "outputs": [],
      "source": [
        "# your code goes here\n"
      ]
    },
    {
      "cell_type": "code",
      "execution_count": null,
      "metadata": {
        "cell_type": "solution",
        "id": "hIMaEuA66iMA"
      },
      "outputs": [],
      "source": [
        "X = ['A','B','C']\n",
        "print(X, type(X))\n",
        "\n",
        "Y = pd.Series(X)\n",
        "print(Y, type(Y)) # different type"
      ]
    },
    {
      "cell_type": "markdown",
      "metadata": {
        "id": "Kj22jjeA6iMA"
      },
      "source": [
        "![green-divider](https://user-images.githubusercontent.com/7065401/52071924-c003ad80-2562-11e9-8297-1c6595f8a7ff.png)\n",
        "\n",
        "### Given the X pandas Series, name it 'My letters'"
      ]
    },
    {
      "cell_type": "code",
      "execution_count": null,
      "metadata": {
        "id": "ZG6O9EIH6iMA"
      },
      "outputs": [],
      "source": [
        "# your code goes here\n"
      ]
    },
    {
      "cell_type": "code",
      "execution_count": null,
      "metadata": {
        "cell_type": "solution",
        "id": "v28Cr5476iMA"
      },
      "outputs": [],
      "source": [
        "X = pd.Series(['A','B','C'])\n",
        "\n",
        "X.name = 'My letters'\n",
        "X"
      ]
    },
    {
      "cell_type": "markdown",
      "metadata": {
        "id": "00fX9qHa6iMB"
      },
      "source": [
        "![green-divider](https://user-images.githubusercontent.com/7065401/52071924-c003ad80-2562-11e9-8297-1c6595f8a7ff.png)\n",
        "\n",
        "### Given the X pandas Series, show its values\n"
      ]
    },
    {
      "cell_type": "code",
      "execution_count": null,
      "metadata": {
        "id": "ZV2mFYnM6iMB"
      },
      "outputs": [],
      "source": [
        "# your code goes here\n"
      ]
    },
    {
      "cell_type": "code",
      "execution_count": null,
      "metadata": {
        "cell_type": "solution",
        "id": "JvUZdLEk6iMB"
      },
      "outputs": [],
      "source": [
        "X = pd.Series(['A','B','C'])\n",
        "\n",
        "X.values"
      ]
    },
    {
      "cell_type": "markdown",
      "metadata": {
        "id": "eraF047U6iMB"
      },
      "source": [
        "![purple-divider](https://user-images.githubusercontent.com/7065401/52071927-c1cd7100-2562-11e9-908a-dde91ba14e59.png)\n",
        "\n",
        "## Series indexation"
      ]
    },
    {
      "cell_type": "markdown",
      "metadata": {
        "id": "5SNgZWjC6iMB"
      },
      "source": [
        "### Assign index names to the given X pandas Series\n"
      ]
    },
    {
      "cell_type": "code",
      "execution_count": null,
      "metadata": {
        "id": "lkzhy_3S6iMB"
      },
      "outputs": [],
      "source": [
        "# your code goes here\n"
      ]
    },
    {
      "cell_type": "code",
      "execution_count": null,
      "metadata": {
        "cell_type": "solution",
        "id": "ilNczdGn6iMB"
      },
      "outputs": [],
      "source": [
        "X = pd.Series(['A','B','C'])\n",
        "index_names = ['first', 'second', 'third']\n",
        "\n",
        "X.index = index_names\n",
        "X"
      ]
    },
    {
      "cell_type": "markdown",
      "metadata": {
        "id": "RJgd-SKm6iMC"
      },
      "source": [
        "![green-divider](https://user-images.githubusercontent.com/7065401/52071924-c003ad80-2562-11e9-8297-1c6595f8a7ff.png)\n",
        "\n",
        "### Given the X pandas Series, show its first element\n"
      ]
    },
    {
      "cell_type": "code",
      "execution_count": null,
      "metadata": {
        "id": "8Fi8QkAw6iMC"
      },
      "outputs": [],
      "source": [
        "# your code goes here\n"
      ]
    },
    {
      "cell_type": "code",
      "execution_count": null,
      "metadata": {
        "cell_type": "solution",
        "id": "k3YmqKkY6iMC"
      },
      "outputs": [],
      "source": [
        "X = pd.Series(['A','B','C'], index=['first', 'second', 'third'])\n",
        "\n",
        "#X[0] # by position\n",
        "#X.iloc[0] # by position\n",
        "X['first'] # by index"
      ]
    },
    {
      "cell_type": "markdown",
      "metadata": {
        "id": "RhsAgCAI6iMC"
      },
      "source": [
        "![green-divider](https://user-images.githubusercontent.com/7065401/52071924-c003ad80-2562-11e9-8297-1c6595f8a7ff.png)\n",
        "\n",
        "### Given the X pandas Series, show its last element\n"
      ]
    },
    {
      "cell_type": "code",
      "execution_count": null,
      "metadata": {
        "id": "GzGbEFzD6iMC"
      },
      "outputs": [],
      "source": [
        "# your code goes here\n"
      ]
    },
    {
      "cell_type": "code",
      "execution_count": null,
      "metadata": {
        "cell_type": "solution",
        "id": "Ai5hlh7D6iMC"
      },
      "outputs": [],
      "source": [
        "X = pd.Series(['A','B','C'], index=['first', 'second', 'third'])\n",
        "\n",
        "#X[-1] # by position\n",
        "#X.iloc[-1] # by position\n",
        "X['third'] # by index"
      ]
    },
    {
      "cell_type": "markdown",
      "metadata": {
        "id": "pjPlqxhb6iMC"
      },
      "source": [
        "![green-divider](https://user-images.githubusercontent.com/7065401/52071924-c003ad80-2562-11e9-8297-1c6595f8a7ff.png)\n",
        "\n",
        "### Given the X pandas Series, show all middle elements\n"
      ]
    },
    {
      "cell_type": "code",
      "execution_count": null,
      "metadata": {
        "id": "CgCjPTDJ6iMC"
      },
      "outputs": [],
      "source": [
        "# your code goes here\n"
      ]
    },
    {
      "cell_type": "code",
      "execution_count": null,
      "metadata": {
        "cell_type": "solution",
        "id": "0E7-qsTa6iMC"
      },
      "outputs": [],
      "source": [
        "X = pd.Series(['A','B','C','D','E'],\n",
        "              index=['first','second','third','forth','fifth'])\n",
        "\n",
        "#X[['second', 'third', 'forth']]\n",
        "#X.iloc[1:-1] # by position\n",
        "X[1:-1] # by position"
      ]
    },
    {
      "cell_type": "markdown",
      "metadata": {
        "id": "u2AS4Otn6iMC"
      },
      "source": [
        "![green-divider](https://user-images.githubusercontent.com/7065401/52071924-c003ad80-2562-11e9-8297-1c6595f8a7ff.png)\n",
        "\n",
        "### Given the X pandas Series, show the elements in reverse position\n"
      ]
    },
    {
      "cell_type": "code",
      "execution_count": null,
      "metadata": {
        "id": "qNckZdJl6iMC"
      },
      "outputs": [],
      "source": [
        "# your code goes here\n"
      ]
    },
    {
      "cell_type": "code",
      "execution_count": null,
      "metadata": {
        "cell_type": "solution",
        "id": "lwcr1nVd6iMC"
      },
      "outputs": [],
      "source": [
        "X = pd.Series(['A','B','C','D','E'],\n",
        "              index=['first','second','third','forth','fifth'])\n",
        "\n",
        "#X.iloc[::-1]\n",
        "X[::-1]"
      ]
    },
    {
      "cell_type": "markdown",
      "metadata": {
        "id": "ba6b1rDI6iMD"
      },
      "source": [
        "![green-divider](https://user-images.githubusercontent.com/7065401/52071924-c003ad80-2562-11e9-8297-1c6595f8a7ff.png)\n",
        "\n",
        "### Given the X pandas Series, show the first and last elements\n"
      ]
    },
    {
      "cell_type": "code",
      "execution_count": null,
      "metadata": {
        "id": "OAdp_TPb6iMD"
      },
      "outputs": [],
      "source": [
        "# your code goes here\n"
      ]
    },
    {
      "cell_type": "code",
      "execution_count": null,
      "metadata": {
        "cell_type": "solution",
        "id": "mO0ZOmxw6iMD"
      },
      "outputs": [],
      "source": [
        "X = pd.Series(['A','B','C','D','E'],\n",
        "              index=['first','second','third','forth','fifth'])\n",
        "\n",
        "#X[['first', 'fifth']]\n",
        "#X.iloc[[0, -1]]\n",
        "X[[0, -1]]"
      ]
    },
    {
      "cell_type": "markdown",
      "metadata": {
        "id": "kKiWThP-6iMD"
      },
      "source": [
        "![purple-divider](https://user-images.githubusercontent.com/7065401/52071927-c1cd7100-2562-11e9-908a-dde91ba14e59.png)\n",
        "\n",
        "## Series manipulation"
      ]
    },
    {
      "cell_type": "markdown",
      "metadata": {
        "id": "3QFeAKsC6iMD"
      },
      "source": [
        "### Convert the given integer pandas Series to float\n"
      ]
    },
    {
      "cell_type": "code",
      "execution_count": null,
      "metadata": {
        "id": "IfBC0vJK6iMD"
      },
      "outputs": [],
      "source": [
        "# your code goes here\n"
      ]
    },
    {
      "cell_type": "code",
      "execution_count": null,
      "metadata": {
        "cell_type": "solution",
        "id": "gaNeY9rm6iMD"
      },
      "outputs": [],
      "source": [
        "X = pd.Series([1,2,3,4,5],\n",
        "              index=['first','second','third','forth','fifth'])\n",
        "\n",
        "pd.Series(X, dtype=np.float)"
      ]
    },
    {
      "cell_type": "markdown",
      "metadata": {
        "id": "F7mvfi_x6iMD"
      },
      "source": [
        "![green-divider](https://user-images.githubusercontent.com/7065401/52071924-c003ad80-2562-11e9-8297-1c6595f8a7ff.png)\n",
        "\n",
        "### Reverse the given pandas Series (first element becomes last)"
      ]
    },
    {
      "cell_type": "code",
      "execution_count": null,
      "metadata": {
        "id": "LzQ0YPup6iMH"
      },
      "outputs": [],
      "source": [
        "# your code goes here\n"
      ]
    },
    {
      "cell_type": "code",
      "execution_count": null,
      "metadata": {
        "cell_type": "solution",
        "id": "qq814mvy6iMH"
      },
      "outputs": [],
      "source": [
        "X = pd.Series([1,2,3,4,5],\n",
        "              index=['first','second','third','forth','fifth'])\n",
        "\n",
        "X[::-1]"
      ]
    },
    {
      "cell_type": "markdown",
      "metadata": {
        "id": "10gekTRb6iMH"
      },
      "source": [
        "![green-divider](https://user-images.githubusercontent.com/7065401/52071924-c003ad80-2562-11e9-8297-1c6595f8a7ff.png)\n",
        "\n",
        "### Order (sort) the given pandas Series\n"
      ]
    },
    {
      "cell_type": "code",
      "execution_count": null,
      "metadata": {
        "id": "pz8-vEz56iMH"
      },
      "outputs": [],
      "source": [
        "# your code goes here\n"
      ]
    },
    {
      "cell_type": "code",
      "execution_count": null,
      "metadata": {
        "cell_type": "solution",
        "id": "e_DeiGJR6iMH"
      },
      "outputs": [],
      "source": [
        "X = pd.Series([4,2,5,1,3],\n",
        "              index=['forth','second','fifth','first','third'])\n",
        "\n",
        "X = X.sort_values()\n",
        "X"
      ]
    },
    {
      "cell_type": "markdown",
      "metadata": {
        "id": "0VG5gkaC6iMH"
      },
      "source": [
        "![green-divider](https://user-images.githubusercontent.com/7065401/52071924-c003ad80-2562-11e9-8297-1c6595f8a7ff.png)\n",
        "\n",
        "### Given the X pandas Series, set the fifth element equal to 10\n"
      ]
    },
    {
      "cell_type": "code",
      "execution_count": null,
      "metadata": {
        "id": "tgfdDf5V6iMH"
      },
      "outputs": [],
      "source": [
        "# your code goes here\n"
      ]
    },
    {
      "cell_type": "code",
      "execution_count": null,
      "metadata": {
        "cell_type": "solution",
        "id": "auM04wmk6iMH"
      },
      "outputs": [],
      "source": [
        "X = pd.Series([1,2,3,4,5],\n",
        "              index=['A','B','C','D','E'])\n",
        "\n",
        "X[4] = 10\n",
        "X"
      ]
    },
    {
      "cell_type": "markdown",
      "metadata": {
        "id": "foUf7hyp6iMH"
      },
      "source": [
        "![green-divider](https://user-images.githubusercontent.com/7065401/52071924-c003ad80-2562-11e9-8297-1c6595f8a7ff.png)\n",
        "\n",
        "### Given the X pandas Series, change all the middle elements to 0\n"
      ]
    },
    {
      "cell_type": "code",
      "execution_count": null,
      "metadata": {
        "id": "Nm4OWFwt6iMI"
      },
      "outputs": [],
      "source": [
        "# your code goes here\n"
      ]
    },
    {
      "cell_type": "code",
      "execution_count": null,
      "metadata": {
        "cell_type": "solution",
        "scrolled": false,
        "id": "ua5TFxRI6iMI"
      },
      "outputs": [],
      "source": [
        "X = pd.Series([1,2,3,4,5],\n",
        "              index=['A','B','C','D','E'])\n",
        "\n",
        "X[1:-1] = 0\n",
        "X"
      ]
    },
    {
      "cell_type": "markdown",
      "metadata": {
        "id": "s6mChwp16iMI"
      },
      "source": [
        "![green-divider](https://user-images.githubusercontent.com/7065401/52071924-c003ad80-2562-11e9-8297-1c6595f8a7ff.png)\n",
        "\n",
        "### Given the X pandas Series, add 5 to every element\n"
      ]
    },
    {
      "cell_type": "code",
      "execution_count": null,
      "metadata": {
        "id": "PhRCmr3_6iMI"
      },
      "outputs": [],
      "source": [
        "# your code goes here\n"
      ]
    },
    {
      "cell_type": "code",
      "execution_count": null,
      "metadata": {
        "cell_type": "solution",
        "id": "aDaO8Glo6iMI"
      },
      "outputs": [],
      "source": [
        "X = pd.Series([1,2,3,4,5])\n",
        "\n",
        "X + 5"
      ]
    },
    {
      "cell_type": "markdown",
      "metadata": {
        "id": "w-knyp1D6iMI"
      },
      "source": [
        "![purple-divider](https://user-images.githubusercontent.com/7065401/52071927-c1cd7100-2562-11e9-908a-dde91ba14e59.png)\n",
        "\n",
        "## Series boolean arrays (also called masks)"
      ]
    },
    {
      "cell_type": "markdown",
      "metadata": {
        "id": "J3b0z5T06iMI"
      },
      "source": [
        "### Given the X pandas Series, make a mask showing negative elements\n"
      ]
    },
    {
      "cell_type": "code",
      "execution_count": null,
      "metadata": {
        "id": "cfh_CEha6iMI"
      },
      "outputs": [],
      "source": [
        "# your code goes here\n"
      ]
    },
    {
      "cell_type": "code",
      "execution_count": null,
      "metadata": {
        "cell_type": "solution",
        "id": "d4K1EkLL6iMJ"
      },
      "outputs": [],
      "source": [
        "X = pd.Series([-1,2,0,-4,5,6,0,0,-9,10])\n",
        "\n",
        "mask = X <= 0\n",
        "mask"
      ]
    },
    {
      "cell_type": "markdown",
      "metadata": {
        "id": "8o6fQ1kK6iMJ"
      },
      "source": [
        "![green-divider](https://user-images.githubusercontent.com/7065401/52071924-c003ad80-2562-11e9-8297-1c6595f8a7ff.png)\n",
        "\n",
        "### Given the X pandas Series, get the negative elements\n"
      ]
    },
    {
      "cell_type": "code",
      "execution_count": null,
      "metadata": {
        "id": "7wLrM-7I6iMJ"
      },
      "outputs": [],
      "source": [
        "# your code goes here\n"
      ]
    },
    {
      "cell_type": "code",
      "execution_count": null,
      "metadata": {
        "cell_type": "solution",
        "id": "6sCVHfDB6iMJ"
      },
      "outputs": [],
      "source": [
        "X = pd.Series([-1,2,0,-4,5,6,0,0,-9,10])\n",
        "\n",
        "mask = X <= 0\n",
        "X[mask]"
      ]
    },
    {
      "cell_type": "markdown",
      "metadata": {
        "id": "s2gBs9986iMJ"
      },
      "source": [
        "![green-divider](https://user-images.githubusercontent.com/7065401/52071924-c003ad80-2562-11e9-8297-1c6595f8a7ff.png)\n",
        "\n",
        "### Given the X pandas Series, get numbers higher than 5\n"
      ]
    },
    {
      "cell_type": "code",
      "execution_count": null,
      "metadata": {
        "id": "VbEX7k1C6iMJ"
      },
      "outputs": [],
      "source": [
        "# your code goes here\n"
      ]
    },
    {
      "cell_type": "code",
      "execution_count": null,
      "metadata": {
        "cell_type": "solution",
        "id": "GFMEVxyJ6iMJ"
      },
      "outputs": [],
      "source": [
        "X = pd.Series([-1,2,0,-4,5,6,0,0,-9,10])\n",
        "\n",
        "mask = X > 5\n",
        "X[mask]"
      ]
    },
    {
      "cell_type": "markdown",
      "metadata": {
        "id": "MrW4ARLH6iMJ"
      },
      "source": [
        "![green-divider](https://user-images.githubusercontent.com/7065401/52071924-c003ad80-2562-11e9-8297-1c6595f8a7ff.png)\n",
        "\n",
        "### Given the X pandas Series, get numbers higher than the elements mean"
      ]
    },
    {
      "cell_type": "code",
      "execution_count": null,
      "metadata": {
        "id": "Fk_4nLeP6iMJ"
      },
      "outputs": [],
      "source": [
        "# your code goes here\n"
      ]
    },
    {
      "cell_type": "code",
      "execution_count": null,
      "metadata": {
        "cell_type": "solution",
        "id": "T7lgi-VX6iMJ"
      },
      "outputs": [],
      "source": [
        "X = pd.Series([-1,2,0,-4,5,6,0,0,-9,10])\n",
        "\n",
        "mask = X > X.mean()\n",
        "X[mask]"
      ]
    },
    {
      "cell_type": "markdown",
      "metadata": {
        "id": "iqw2IzQU6iMK"
      },
      "source": [
        "![green-divider](https://user-images.githubusercontent.com/7065401/52071924-c003ad80-2562-11e9-8297-1c6595f8a7ff.png)\n",
        "\n",
        "### Given the X pandas Series, get numbers equal to 2 or 10\n"
      ]
    },
    {
      "cell_type": "code",
      "execution_count": null,
      "metadata": {
        "id": "qv0N06mP6iMK"
      },
      "outputs": [],
      "source": [
        "# your code goes here\n"
      ]
    },
    {
      "cell_type": "code",
      "execution_count": null,
      "metadata": {
        "cell_type": "solution",
        "scrolled": true,
        "id": "Be7sYNH36iMK"
      },
      "outputs": [],
      "source": [
        "X = pd.Series([-1,2,0,-4,5,6,0,0,-9,10])\n",
        "\n",
        "mask = (X == 2) | (X == 10)\n",
        "X[mask]"
      ]
    },
    {
      "cell_type": "markdown",
      "metadata": {
        "id": "6lNq6QBZ6iMK"
      },
      "source": [
        "![purple-divider](https://user-images.githubusercontent.com/7065401/52071927-c1cd7100-2562-11e9-908a-dde91ba14e59.png)\n",
        "\n",
        "## Logic functions"
      ]
    },
    {
      "cell_type": "markdown",
      "metadata": {
        "id": "ifldUmui6iMK"
      },
      "source": [
        "### Given the X pandas Series, return True if none of its elements is zero"
      ]
    },
    {
      "cell_type": "code",
      "execution_count": null,
      "metadata": {
        "id": "NsH1LnjB6iMK"
      },
      "outputs": [],
      "source": [
        "# your code goes here\n"
      ]
    },
    {
      "cell_type": "code",
      "execution_count": null,
      "metadata": {
        "cell_type": "solution",
        "id": "-evo56c46iMK"
      },
      "outputs": [],
      "source": [
        "X = pd.Series([-1,2,0,-4,5,6,0,0,-9,10])\n",
        "\n",
        "X.all()"
      ]
    },
    {
      "cell_type": "markdown",
      "metadata": {
        "id": "zMijt9aa6iMK"
      },
      "source": [
        "![green-divider](https://user-images.githubusercontent.com/7065401/52071924-c003ad80-2562-11e9-8297-1c6595f8a7ff.png)\n",
        "\n",
        "### Given the X pandas Series, return True if any of its elements is zero\n"
      ]
    },
    {
      "cell_type": "code",
      "execution_count": null,
      "metadata": {
        "id": "pJ6NRRnF6iMK"
      },
      "outputs": [],
      "source": [
        "# your code goes here\n"
      ]
    },
    {
      "cell_type": "code",
      "execution_count": null,
      "metadata": {
        "cell_type": "solution",
        "id": "3vB9NpiG6iMK"
      },
      "outputs": [],
      "source": [
        "X = pd.Series([-1,2,0,-4,5,6,0,0,-9,10])\n",
        "\n",
        "X.any()"
      ]
    },
    {
      "cell_type": "markdown",
      "metadata": {
        "id": "xqhKQGuJ6iML"
      },
      "source": [
        "![purple-divider](https://user-images.githubusercontent.com/7065401/52071927-c1cd7100-2562-11e9-908a-dde91ba14e59.png)\n",
        "\n",
        "## Summary statistics"
      ]
    },
    {
      "cell_type": "markdown",
      "metadata": {
        "id": "HCgL2mGG6iML"
      },
      "source": [
        "### Given the X pandas Series, show the sum of its elements\n"
      ]
    },
    {
      "cell_type": "code",
      "execution_count": null,
      "metadata": {
        "id": "sn6KcUMx6iML"
      },
      "outputs": [],
      "source": [
        "# your code goes here\n"
      ]
    },
    {
      "cell_type": "code",
      "execution_count": null,
      "metadata": {
        "cell_type": "solution",
        "id": "ECUr_JlX6iML"
      },
      "outputs": [],
      "source": [
        "X = pd.Series([3,5,6,7,2,3,4,9,4])\n",
        "\n",
        "#np.sum(X)\n",
        "X.sum()"
      ]
    },
    {
      "cell_type": "markdown",
      "metadata": {
        "id": "UI9i8F1E6iML"
      },
      "source": [
        "![green-divider](https://user-images.githubusercontent.com/7065401/52071924-c003ad80-2562-11e9-8297-1c6595f8a7ff.png)\n",
        "\n",
        "### Given the X pandas Series, show the mean value of its elements"
      ]
    },
    {
      "cell_type": "code",
      "execution_count": null,
      "metadata": {
        "id": "jYEBDOu76iML"
      },
      "outputs": [],
      "source": [
        "# your code goes here\n"
      ]
    },
    {
      "cell_type": "code",
      "execution_count": null,
      "metadata": {
        "cell_type": "solution",
        "id": "6czVO8ac6iML"
      },
      "outputs": [],
      "source": [
        "X = pd.Series([1,2,0,4,5,6,0,0,9,10])\n",
        "\n",
        "#np.mean(X)\n",
        "X.mean()"
      ]
    },
    {
      "cell_type": "markdown",
      "metadata": {
        "id": "5hZpzfpC6iML"
      },
      "source": [
        "![green-divider](https://user-images.githubusercontent.com/7065401/52071924-c003ad80-2562-11e9-8297-1c6595f8a7ff.png)\n",
        "\n",
        "### Given the X pandas Series, show the max value of its elements"
      ]
    },
    {
      "cell_type": "code",
      "execution_count": null,
      "metadata": {
        "id": "B-58sVY06iML"
      },
      "outputs": [],
      "source": [
        "# your code goes here\n"
      ]
    },
    {
      "cell_type": "code",
      "execution_count": null,
      "metadata": {
        "cell_type": "solution",
        "id": "mgNyKiSx6iML"
      },
      "outputs": [],
      "source": [
        "X = pd.Series([1,2,0,4,5,6,0,0,9,10])\n",
        "\n",
        "#np.max(X)\n",
        "X.max()"
      ]
    },
    {
      "cell_type": "markdown",
      "metadata": {
        "id": "gt0yJ7oo6iMM"
      },
      "source": [
        "![purple-divider](https://user-images.githubusercontent.com/7065401/52071927-c1cd7100-2562-11e9-908a-dde91ba14e59.png)"
      ]
    }
  ],
  "metadata": {
    "kernelspec": {
      "display_name": "Python 3",
      "language": "python",
      "name": "python3"
    },
    "language_info": {
      "codemirror_mode": {
        "name": "ipython",
        "version": 3
      },
      "file_extension": ".py",
      "mimetype": "text/x-python",
      "name": "python",
      "nbconvert_exporter": "python",
      "pygments_lexer": "ipython3",
      "version": "3.7.4"
    },
    "colab": {
      "provenance": []
    }
  },
  "nbformat": 4,
  "nbformat_minor": 0
}